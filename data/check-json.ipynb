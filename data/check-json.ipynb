{
 "cells": [
  {
   "cell_type": "code",
   "execution_count": 3,
   "metadata": {},
   "outputs": [
    {
     "name": "stdout",
     "output_type": "stream",
     "text": [
      "5 once rum 4 once triple sec 3 once Tia Maria 20 once succo d'arancia \n",
      "2 tubi rotolo di cannella refrigerato con glassa 4 cucchiai burro fuso 6 uova 1/2 tazza latte 2 cucchiaini cannella 2 cucchiaini vaniglia 1 tazza sciroppo d'acero \n",
      "4 maturo noci di cocco 1 tazza latte evaporato 1 tazza gin 3 cucchiai zucchero 1 cucchiaino Terreno cannella 1/2 cucchiaino appena grattugiato noce moscata \n",
      "1 foglio graham cracker rotto a metà 2 pezzi barrette di cioccolato al latte 1 marshmallows 6-8 fresco mirtilli 2 spessore fette di fragola \n",
      "1 8 oncia pacchetto rotoli di mezzaluna 8 fette prosciutto crudo 4 cucchiaini preparato senape 1 tazza triturato formaggio svizzero 1 tazza formaggio cheddar 2 cucchiai semi di sesamo \n",
      "10 osso in pollo cosce 2-3/4 LB. pelli rimosse 16 once TACO BELL Salsa spessa e croccante 1 cipolla tritato 2 cucchiai polvere di curry 1 tazza Crema acida Ridotto grasso \n",
      "2 medio patate da forno 6 - 8 Oz. 2 cucchiai fuso burro 1/4 cucchiaino sale all'aglio 1/4 cucchiaino sale da condimento 1/8 cucchiaino pepe panna acida come topping erba cipollina come topping \n",
      "carote sale in scatola carote Dolce marrone zucchero 2 tazze marrone zucchero 2 tazze acqua 1 tazza succo d'arancia \n",
      "1 tazza gocce di cioccolato 1 tazza crema pesante 1 uova frustata crema 1 cucchiaino estratto di vaniglia \n",
      "1 lime taglio in cunei sale kosher 1 tazza rosso rubino succo di pompelmo 1/2 tazza appena spremuto succo di lime 4 lime 1 tazza liquore all'arancia 2 tazze ghiaccio 1 tazza bianco tequila \n"
     ]
    }
   ],
   "source": [
    "import json\n",
    "path = '/home/pgajo/working/food/data/TASTEset/data/TASTEset_updated_en-it_itemwise.json'\n",
    "with open(path) as f:\n",
    "    data = json.load(f)\n",
    "\n",
    "for recipe in data['annotations']:\n",
    "    for entity in recipe['entities_it']:\n",
    "        print(recipe['text_it'][entity[0]:entity[1]],end=' ')\n",
    "    print()"
   ]
  }
 ],
 "metadata": {
  "kernelspec": {
   "display_name": "food-env",
   "language": "python",
   "name": "python3"
  },
  "language_info": {
   "codemirror_mode": {
    "name": "ipython",
    "version": 3
   },
   "file_extension": ".py",
   "mimetype": "text/x-python",
   "name": "python",
   "nbconvert_exporter": "python",
   "pygments_lexer": "ipython3",
   "version": "3.8.10"
  }
 },
 "nbformat": 4,
 "nbformat_minor": 2
}
