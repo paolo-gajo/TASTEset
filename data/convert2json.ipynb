{
 "cells": [
  {
   "cell_type": "code",
   "execution_count": 6,
   "metadata": {},
   "outputs": [
    {
     "ename": "IndentationError",
     "evalue": "unexpected indent (1220505718.py, line 33)",
     "output_type": "error",
     "traceback": [
      "\u001b[0;36m  Cell \u001b[0;32mIn[6], line 33\u001b[0;36m\u001b[0m\n\u001b[0;31m    'ingredients':{\u001b[0m\n\u001b[0m    ^\u001b[0m\n\u001b[0;31mIndentationError\u001b[0m\u001b[0;31m:\u001b[0m unexpected indent\n"
     ]
    }
   ],
   "source": [
    "import pandas as pd\n",
    "import re\n",
    "import json\n",
    "\n",
    "df = pd.read_csv('/home/pgajo/working/food/TASTEset/data/TASTEset.csv')\n",
    "display(df.head())\n",
    "\n",
    "# extract each row as an element and put them all in a list\n",
    "data = df.values.tolist()\n",
    "print(data[0])\n",
    "data[0][0] = data[0][0].split('\\n')[:-1]\n",
    "print('data[0]', data[0])\n",
    "print('data[0][0]', data[0][0])\n",
    "print('data[0][1]', data[0][1])\n",
    "\n",
    "dict_list = []\n",
    "recipe_dict = {}\n",
    "for i, recipe in enumerate(data):\n",
    "    recipe_dict[i] = {}\n",
    "    recipe_ingredients_list = recipe[0]\n",
    "    recipe_entities_str = recipe[1].replace('\"\"', '\"')\n",
    "    # recipe_entities_list = re.findall(r'\\{[^{}]*\\}', recipe_entities_str)\n",
    "    recipe_entities_list = re.findall(r'\\{.*?\"type\": \".*?\".*?\"type\": \"FOOD\".*?\\}', recipe_entities_str)\n",
    "    for j, ingredient in enumerate(recipe_ingredients_list):\n",
    "\n",
    "\n"
   ]
  }
 ],
 "metadata": {
  "kernelspec": {
   "display_name": "food-env",
   "language": "python",
   "name": "python3"
  },
  "language_info": {
   "codemirror_mode": {
    "name": "ipython",
    "version": 3
   },
   "file_extension": ".py",
   "mimetype": "text/x-python",
   "name": "python",
   "nbconvert_exporter": "python",
   "pygments_lexer": "ipython3",
   "version": "3.8.10"
  }
 },
 "nbformat": 4,
 "nbformat_minor": 2
}
