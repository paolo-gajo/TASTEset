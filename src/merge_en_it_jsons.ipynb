{
 "cells": [
  {
   "cell_type": "code",
   "execution_count": 1,
   "metadata": {},
   "outputs": [],
   "source": [
    "import json\n",
    "\n",
    "with open('/home/pgajo/working/food/TASTEset/data/TASTEset_semicolon_en.json') as file_en:\n",
    "    data_en = json.load(file_en)\n",
    "\n",
    "with open('/home/pgajo/working/food/TASTEset/data/TASTEset_semicolon_it.json') as file_it:\n",
    "    data_it = json.load(file_it)\n",
    "\n",
    "\n",
    "en_it = {\n",
    "    \"classes\": [\n",
    "        \"FOOD\",\n",
    "        \"QUANTITY\",\n",
    "        \"UNIT\",\n",
    "        \"PROCESS\",\n",
    "        \"PHYSICAL_QUALITY\",\n",
    "        \"COLOR\",\n",
    "        \"TASTE\",\n",
    "        \"PURPOSE\",\n",
    "        \"PART\"\n",
    "    ],}\n",
    "\n",
    "en_it[\"languages\"] = {\n",
    "    \"en\": data_en[\"annotations\"],\n",
    "    \"it\": data_it[\"annotations\"],\n",
    "}\n",
    "\n",
    "with open('/home/pgajo/working/food/TASTEset/data/TASTEset_semicolon_en_it.json', 'w') as outfile:\n",
    "    json.dump(en_it, outfile, indent=4)"
   ]
  },
  {
   "cell_type": "code",
   "execution_count": 2,
   "metadata": {},
   "outputs": [
    {
     "name": "stdout",
     "output_type": "stream",
     "text": [
      "[{'text': '5 ounces rum;4 ounces triple sec;3 ounces Tia Maria;20 ounces orange juice', 'entities': [[0, 1, 'QUANTITY'], [2, 8, 'UNIT'], [9, 12, 'FOOD'], [13, 14, 'QUANTITY'], [15, 21, 'UNIT'], [22, 32, 'FOOD'], [33, 34, 'QUANTITY'], [35, 41, 'UNIT'], [42, 51, 'FOOD'], [52, 54, 'QUANTITY'], [55, 61, 'UNIT'], [62, 74, 'FOOD']]}, {'text': '2 tubes cinnamon roll, refrigerated, with icing;4 tablespoons butter, melted;6 eggs;½ cup milk;2 teaspoons cinnamon;2 teaspoons vanilla;1 cup maple syrup', 'entities': [[0, 1, 'QUANTITY'], [2, 7, 'UNIT'], [8, 21, 'FOOD'], [23, 35, 'PROCESS'], [37, 41, 'FOOD'], [42, 47, 'FOOD'], [48, 49, 'QUANTITY'], [50, 61, 'UNIT'], [62, 68, 'FOOD'], [70, 76, 'PROCESS'], [77, 78, 'QUANTITY'], [79, 83, 'FOOD'], [84, 85, 'QUANTITY'], [86, 89, 'UNIT'], [90, 94, 'FOOD'], [95, 96, 'QUANTITY'], [97, 106, 'UNIT'], [107, 115, 'FOOD'], [116, 117, 'QUANTITY'], [118, 127, 'UNIT'], [128, 135, 'FOOD'], [136, 137, 'QUANTITY'], [138, 141, 'UNIT'], [142, 153, 'FOOD']]}, {'text': '4 ripe coconuts;1 cup evaporated milk;1 cup gin;3 tablespoons sugar (optional);1 teaspoon ground cinnamon;1⁄2 teaspoon freshly grated nutmeg', 'entities': [[0, 1, 'QUANTITY'], [2, 6, 'PHYSICAL_QUALITY'], [7, 15, 'FOOD'], [16, 17, 'QUANTITY'], [18, 21, 'UNIT'], [22, 37, 'FOOD'], [38, 39, 'QUANTITY'], [40, 43, 'UNIT'], [44, 47, 'FOOD'], [48, 49, 'QUANTITY'], [50, 61, 'UNIT'], [62, 67, 'FOOD'], [79, 80, 'QUANTITY'], [81, 89, 'UNIT'], [90, 96, 'PROCESS'], [97, 105, 'FOOD'], [106, 109, 'QUANTITY'], [110, 118, 'UNIT'], [119, 133, 'PROCESS'], [134, 140, 'FOOD']]}]\n",
      "[{'text': \"5 once rum;4 once triple sec;3 once Tia Maria;20 once succo d'arancia\", 'entities': [[0, 1, 'QUANTITY'], [2, 6, 'UNIT'], [7, 10, 'FOOD'], [11, 12, 'QUANTITY'], [13, 17, 'UNIT'], [18, 28, 'FOOD'], [29, 30, 'QUANTITY'], [31, 35, 'UNIT'], [36, 45, 'FOOD'], [46, 48, 'QUANTITY'], [49, 53, 'UNIT'], [54, 69, 'FOOD']]}, {'text': '2 tubi rotolo di cannella,refrigerato,con glassa;4 cucchiai burro,fuso;6 uova;1/2 Cup milk;2 teaspoons cinnamon;2 teaspoons vanilla;1 cup maple syru', 'entities': [[0, 1, 'QUANTITY'], [2, 6, 'UNIT'], [7, 25, 'FOOD'], [26, 38, 'PROCESS'], [39, 43, 'FOOD'], [44, 50, 'FOOD'], [51, 52, 'QUANTITY'], [53, 61, 'UNIT'], [62, 67, 'FOOD'], [68, 73, 'PROCESS'], [74, 75, 'QUANTITY'], [76, 80, 'FOOD'], [81, 82, 'QUANTITY'], [83, 86, 'UNIT'], [87, 91, 'FOOD'], [92, 93, 'QUANTITY'], [94, 103, 'UNIT'], [104, 112, 'FOOD'], [113, 114, 'QUANTITY'], [115, 124, 'UNIT'], [125, 132, 'FOOD'], [133, 134, 'QUANTITY'], [135, 138, 'UNIT'], [139, 150, 'FOOD']]}, {'text': '4 maturo noci di cocco;1 tazza latte evaporato;1 tazza gin;3 cucchiai zucchero 1 cucchiaino Terreno cannella;1/2 cucchiaino appena grattugiato noce moscata', 'entities': [[0, 1, 'QUANTITY'], [2, 8, 'PHYSICAL_QUALITY'], [9, 22, 'FOOD'], [23, 24, 'QUANTITY'], [25, 30, 'UNIT'], [31, 46, 'FOOD'], [47, 48, 'QUANTITY'], [49, 54, 'UNIT'], [55, 58, 'FOOD'], [59, 60, 'QUANTITY'], [61, 69, 'UNIT'], [70, 78, 'FOOD'], [79, 91, 'QUANTITY'], [92, 102, 'UNIT'], [103, 110, 'PROCESS'], [111, 119, 'FOOD'], [120, 123, 'QUANTITY'], [124, 134, 'UNIT'], [135, 153, 'PROCESS'], [154, 166, 'FOOD']]}]\n"
     ]
    }
   ],
   "source": [
    "with open('/home/pgajo/working/food/TASTEset/data/TASTEset_semicolon_en_it.json') as file:\n",
    "    data_en_it = json.load(file)\n",
    "\n",
    "print(data_en_it[\"languages\"][\"en\"][0:3])\n",
    "print(data_en_it[\"languages\"][\"it\"][0:3])"
   ]
  }
 ],
 "metadata": {
  "kernelspec": {
   "display_name": "food-env",
   "language": "python",
   "name": "python3"
  },
  "language_info": {
   "codemirror_mode": {
    "name": "ipython",
    "version": 3
   },
   "file_extension": ".py",
   "mimetype": "text/x-python",
   "name": "python",
   "nbconvert_exporter": "python",
   "pygments_lexer": "ipython3",
   "version": "3.8.10"
  }
 },
 "nbformat": 4,
 "nbformat_minor": 2
}
